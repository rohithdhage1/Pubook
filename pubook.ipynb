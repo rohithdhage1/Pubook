{
 "cells": [
  {
   "cell_type": "code",
   "execution_count": 6,
   "id": "70a66a04-08b1-4e0d-8e4d-1b713d9ea788",
   "metadata": {
    "editable": true,
    "slideshow": {
     "slide_type": ""
    },
    "tags": []
   },
   "outputs": [],
   "source": [
    "import json\n"
   ]
  },
  {
   "cell_type": "code",
   "execution_count": 8,
   "id": "f6028541-2559-448b-a0a6-7e22f8be20e8",
   "metadata": {},
   "outputs": [],
   "source": [
    "# Writting a function to load the data\n",
    "def load_data (filename):\n",
    "    with open(filename, \"r\") as f :\n",
    "        data = json.load(f)\n",
    "    return data"
   ]
  },
  {
   "cell_type": "code",
   "execution_count": 10,
   "id": "8936f406-6d1f-4286-be22-6f9d92a89c13",
   "metadata": {},
   "outputs": [],
   "source": [
    "data = load_data(\"Data.json\")"
   ]
  },
  {
   "cell_type": "code",
   "execution_count": 18,
   "id": "b65e91f1-1e8f-4899-9a3c-fe32e2f73bca",
   "metadata": {},
   "outputs": [
    {
     "data": {
      "text/plain": [
       "{'users': [{'id': 1, 'name': 'Amit', 'friends': [2, 3], 'liked_pages': [101]},\n",
       "  {'id': 2, 'name': 'Priya', 'friends': [1, 4], 'liked_pages': [102]},\n",
       "  {'id': 3, 'name': 'Rahul', 'friends': [1], 'liked_pages': [101, 103]},\n",
       "  {'id': 4, 'name': 'Sara', 'friends': [2], 'liked_pages': [104]}],\n",
       " 'pages': [{'id': 101, 'name': 'Python Developers'},\n",
       "  {'id': 102, 'name': 'Data Science Enthusiasts'},\n",
       "  {'id': 103, 'name': 'AI & ML Community'},\n",
       "  {'id': 104, 'name': 'Web Dev Hub'}]}"
      ]
     },
     "execution_count": 18,
     "metadata": {},
     "output_type": "execute_result"
    }
   ],
   "source": [
    "data"
   ]
  },
  {
   "cell_type": "code",
   "execution_count": 20,
   "id": "8db6e77b-cb01-40ac-856c-62bcec10b46a",
   "metadata": {},
   "outputs": [
    {
     "data": {
      "text/plain": [
       "dict"
      ]
     },
     "execution_count": 20,
     "metadata": {},
     "output_type": "execute_result"
    }
   ],
   "source": [
    "type(data)"
   ]
  },
  {
   "cell_type": "code",
   "execution_count": 28,
   "id": "236f9e33-a789-4ec0-9e80-b5a6533c3219",
   "metadata": {
    "editable": true,
    "slideshow": {
     "slide_type": ""
    },
    "tags": []
   },
   "outputs": [
    {
     "name": "stdout",
     "output_type": "stream",
     "text": [
      "Users and their connections \n",
      "\n",
      "Amit is friends with: [2, 3] and liked pages are [101]\n",
      "Priya is friends with: [1, 4] and liked pages are [102]\n",
      "Rahul is friends with: [1] and liked pages are [101, 103]\n",
      "Sara is friends with: [2] and liked pages are [104]\n",
      "Pages Information \n",
      "\n",
      "101: Python Developers \n",
      "102: Data Science Enthusiasts \n",
      "103: AI & ML Community \n",
      "104: Web Dev Hub \n"
     ]
    }
   ],
   "source": [
    "#display write a function to display users and their connections \n",
    "def display_users(data):\n",
    "    print(\"Users and their connections \\n\")\n",
    "    for user in data['users']:\n",
    "        print(f\"{user['name']} is friends with: {user['friends']} and liked pages are {user['liked_pages']}\") \n",
    "        \n",
    "    print(\"Pages Information \\n\")\n",
    "    for page in data['pages']:\n",
    "        print(f\"{page['id']}: {page['name']} \")\n",
    "\n",
    "display_users (data)\n"
   ]
  },
  {
   "cell_type": "code",
   "execution_count": null,
   "id": "6ace8b84-a41c-4aaf-8ebe-d73ec7b6763d",
   "metadata": {},
   "outputs": [],
   "source": []
  }
 ],
 "metadata": {
  "kernelspec": {
   "display_name": "Python [conda env:base] *",
   "language": "python",
   "name": "conda-base-py"
  },
  "language_info": {
   "codemirror_mode": {
    "name": "ipython",
    "version": 3
   },
   "file_extension": ".py",
   "mimetype": "text/x-python",
   "name": "python",
   "nbconvert_exporter": "python",
   "pygments_lexer": "ipython3",
   "version": "3.12.7"
  }
 },
 "nbformat": 4,
 "nbformat_minor": 5
}
